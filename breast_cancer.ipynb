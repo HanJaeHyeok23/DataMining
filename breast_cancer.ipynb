{
  "nbformat": 4,
  "nbformat_minor": 0,
  "metadata": {
    "colab": {
      "name": "breast-cancer.ipynb",
      "provenance": [],
      "collapsed_sections": [],
      "authorship_tag": "ABX9TyNimgT86mR7EQAIO5m3d/QR",
      "include_colab_link": true
    },
    "kernelspec": {
      "name": "python3",
      "display_name": "Python 3"
    },
    "language_info": {
      "name": "python"
    }
  },
  "cells": [
    {
      "cell_type": "markdown",
      "metadata": {
        "id": "view-in-github",
        "colab_type": "text"
      },
      "source": [
        "<a href=\"https://colab.research.google.com/github/HanJaeHyeok23/Chapter4/blob/master/breast_cancer.ipynb\" target=\"_parent\"><img src=\"https://colab.research.google.com/assets/colab-badge.svg\" alt=\"Open In Colab\"/></a>"
      ]
    },
    {
      "cell_type": "code",
      "execution_count": 1,
      "metadata": {
        "id": "jmg0yw675Mvy"
      },
      "outputs": [],
      "source": [
        "# Python ≥3.5 is required\n",
        "import sys\n",
        "assert sys.version_info >= (3, 5)\n",
        "\n",
        "# Scikit-Learn ≥0.20 is required\n",
        "import sklearn\n",
        "assert sklearn.__version__ >= \"0.20\"\n",
        "\n",
        "# Common imports\n",
        "import numpy as np\n",
        "import os\n",
        "\n",
        "# to make this notebook's output stable across runs\n",
        "np.random.seed(42)\n",
        "\n",
        "# To plot pretty figures\n",
        "%matplotlib inline\n",
        "import matplotlib as mpl\n",
        "import matplotlib.pyplot as plt\n",
        "mpl.rc('axes', labelsize=14)\n",
        "mpl.rc('xtick', labelsize=12)\n",
        "mpl.rc('ytick', labelsize=12)\n",
        "\n",
        "# Where to save the figures\n",
        "PROJECT_ROOT_DIR = \".\"\n",
        "CHAPTER_ID = \"decision_trees\"\n",
        "IMAGES_PATH = os.path.join(PROJECT_ROOT_DIR, \"images\", CHAPTER_ID)\n",
        "os.makedirs(IMAGES_PATH, exist_ok=True)\n",
        "\n",
        "def save_fig(fig_id, tight_layout=True, fig_extension=\"png\", resolution=300):\n",
        "    path = os.path.join(IMAGES_PATH, fig_id + \".\" + fig_extension)\n",
        "    print(\"Saving figure\", fig_id)\n",
        "    if tight_layout:\n",
        "        plt.tight_layout()\n",
        "    plt.savefig(path, format=fig_extension, dpi=resolution)"
      ]
    },
    {
      "cell_type": "code",
      "source": [
        "from sklearn import datasets\n",
        "from sklearn.tree import DecisionTreeClassifier\n",
        "from sklearn.model_selection import train_test_split"
      ],
      "metadata": {
        "id": "ZZTtM-S17Yra"
      },
      "execution_count": 2,
      "outputs": []
    },
    {
      "cell_type": "code",
      "source": [
        "from sklearn.datasets import load_breast_cancer\n",
        "from sklearn.tree import DecisionTreeClassifier\n",
        "\n",
        "cancer = load_breast_cancer()\n",
        "X = cancer.data[:, 2:] # petal length and width\n",
        "y = cancer.target\n",
        "\n",
        "tree_clf = DecisionTreeClassifier(max_depth=3, random_state=42)\n",
        "tree_clf.fit(X, y)"
      ],
      "metadata": {
        "colab": {
          "base_uri": "https://localhost:8080/"
        },
        "id": "t2A9V3eP9IZV",
        "outputId": "135a4732-213a-41fb-f584-885169657c36"
      },
      "execution_count": 3,
      "outputs": [
        {
          "output_type": "execute_result",
          "data": {
            "text/plain": [
              "DecisionTreeClassifier(max_depth=3, random_state=42)"
            ]
          },
          "metadata": {},
          "execution_count": 3
        }
      ]
    },
    {
      "cell_type": "code",
      "source": [
        "from sklearn.tree import DecisionTreeClassifier\n",
        "\n",
        "cancer = load_breast_cancer()\n",
        "X_train, X_test, y_train, y_test = train_test_split(\n",
        "    cancer.data, cancer.target, stratify=cancer.target, random_state=42)\n",
        "tree = DecisionTreeClassifier(random_state=0)\n",
        "tree.fit(X_train, y_train)\n",
        "print(\"훈련 세트 정확도: {:.3f}\".format(tree.score(X_train, y_train)))\n",
        "print(\"테스트 세트 정확도: {:.3f}\".format(tree.score(X_test, y_test)))"
      ],
      "metadata": {
        "colab": {
          "base_uri": "https://localhost:8080/"
        },
        "id": "c_QYjWN69MAP",
        "outputId": "c863b9c0-5084-41b4-ebf5-01fef5334daa"
      },
      "execution_count": 4,
      "outputs": [
        {
          "output_type": "stream",
          "name": "stdout",
          "text": [
            "훈련 세트 정확도: 1.000\n",
            "테스트 세트 정확도: 0.937\n"
          ]
        }
      ]
    },
    {
      "cell_type": "code",
      "source": [
        "tree = DecisionTreeClassifier(max_depth=2, random_state=0)\n",
        "tree.fit(X_train, y_train)\n",
        "\n",
        "print(\"훈련 세트 정확도: {:.3f}\".format(tree.score(X_train, y_train)))\n",
        "print(\"테스트 세트 정확도: {:.3f}\".format(tree.score(X_test, y_test)))"
      ],
      "metadata": {
        "colab": {
          "base_uri": "https://localhost:8080/"
        },
        "id": "Z7uxhcC39Wbu",
        "outputId": "f863e996-e924-4d43-8334-acfc47f24881"
      },
      "execution_count": 5,
      "outputs": [
        {
          "output_type": "stream",
          "name": "stdout",
          "text": [
            "훈련 세트 정확도: 0.958\n",
            "테스트 세트 정확도: 0.909\n"
          ]
        }
      ]
    },
    {
      "cell_type": "code",
      "source": [
        "tree = DecisionTreeClassifier(max_depth=4, random_state=0)\n",
        "tree.fit(X_train, y_train)\n",
        "\n",
        "print(\"훈련 세트 정확도: {:.3f}\".format(tree.score(X_train, y_train)))\n",
        "print(\"테스트 세트 정확도: {:.3f}\".format(tree.score(X_test, y_test)))"
      ],
      "metadata": {
        "colab": {
          "base_uri": "https://localhost:8080/"
        },
        "id": "uEivpTYm9k7M",
        "outputId": "4923511a-1bdb-43a0-e605-455c4d1ddad3"
      },
      "execution_count": 6,
      "outputs": [
        {
          "output_type": "stream",
          "name": "stdout",
          "text": [
            "훈련 세트 정확도: 0.988\n",
            "테스트 세트 정확도: 0.951\n"
          ]
        }
      ]
    },
    {
      "cell_type": "code",
      "source": [
        "tree = DecisionTreeClassifier(max_depth=6, random_state=0)\n",
        "tree.fit(X_train, y_train)\n",
        "\n",
        "print(\"훈련 세트 정확도: {:.3f}\".format(tree.score(X_train, y_train)))\n",
        "print(\"테스트 세트 정확도: {:.3f}\".format(tree.score(X_test, y_test)))"
      ],
      "metadata": {
        "colab": {
          "base_uri": "https://localhost:8080/"
        },
        "id": "Hsmrn0lu9n-g",
        "outputId": "095060d8-d005-4053-fc61-e825de75f11a"
      },
      "execution_count": 7,
      "outputs": [
        {
          "output_type": "stream",
          "name": "stdout",
          "text": [
            "훈련 세트 정확도: 0.998\n",
            "테스트 세트 정확도: 0.937\n"
          ]
        }
      ]
    },
    {
      "cell_type": "code",
      "source": [
        "tree = DecisionTreeClassifier(max_depth=8, random_state=0)\n",
        "tree.fit(X_train, y_train)\n",
        "\n",
        "print(\"훈련 세트 정확도: {:.3f}\".format(tree.score(X_train, y_train)))\n",
        "print(\"테스트 세트 정확도: {:.3f}\".format(tree.score(X_test, y_test)))"
      ],
      "metadata": {
        "colab": {
          "base_uri": "https://localhost:8080/"
        },
        "id": "n8fL_kpe9qvG",
        "outputId": "1e14eb6a-efe7-46f1-b30e-dcf4fdf48d8c"
      },
      "execution_count": 8,
      "outputs": [
        {
          "output_type": "stream",
          "name": "stdout",
          "text": [
            "훈련 세트 정확도: 1.000\n",
            "테스트 세트 정확도: 0.937\n"
          ]
        }
      ]
    },
    {
      "cell_type": "code",
      "source": [
        "tree = DecisionTreeClassifier(max_depth=10, random_state=0)\n",
        "tree.fit(X_train, y_train)\n",
        "\n",
        "print(\"훈련 세트 정확도: {:.3f}\".format(tree.score(X_train, y_train)))\n",
        "print(\"테스트 세트 정확도: {:.3f}\".format(tree.score(X_test, y_test)))"
      ],
      "metadata": {
        "colab": {
          "base_uri": "https://localhost:8080/"
        },
        "id": "HAxSzz8N9tBs",
        "outputId": "a606b394-085e-4936-e5af-24cec177d280"
      },
      "execution_count": 9,
      "outputs": [
        {
          "output_type": "stream",
          "name": "stdout",
          "text": [
            "훈련 세트 정확도: 1.000\n",
            "테스트 세트 정확도: 0.937\n"
          ]
        }
      ]
    },
    {
      "cell_type": "code",
      "source": [
        "from graphviz import Source\n",
        "from sklearn.tree import export_graphviz\n",
        "\n",
        "export_graphviz(\n",
        "        tree_clf,\n",
        "        out_file=os.path.join(IMAGES_PATH, \"cancer_tree.dot\"),\n",
        "        feature_names=cancer.feature_names[2:],\n",
        "        class_names=cancer.target_names,\n",
        "        rounded=True,\n",
        "        filled=True\n",
        "    )\n",
        "\n",
        "Source.from_file(os.path.join(IMAGES_PATH, \"cancer_tree.dot\"))"
      ],
      "metadata": {
        "colab": {
          "base_uri": "https://localhost:8080/",
          "height": 618
        },
        "id": "WT40-fRJ-gur",
        "outputId": "5cf19ddc-49fc-4d03-9620-7a131e90a59b"
      },
      "execution_count": 10,
      "outputs": [
        {
          "output_type": "execute_result",
          "data": {
            "text/plain": [
              "<graphviz.files.Source at 0x7fce5fd543d0>"
            ],
            "image/svg+xml": "<?xml version=\"1.0\" encoding=\"UTF-8\" standalone=\"no\"?>\n<!DOCTYPE svg PUBLIC \"-//W3C//DTD SVG 1.1//EN\"\n \"http://www.w3.org/Graphics/SVG/1.1/DTD/svg11.dtd\">\n<!-- Generated by graphviz version 2.40.1 (20161225.0304)\n -->\n<!-- Title: Tree Pages: 1 -->\n<svg width=\"1099pt\" height=\"433pt\"\n viewBox=\"0.00 0.00 1099.00 433.00\" xmlns=\"http://www.w3.org/2000/svg\" xmlns:xlink=\"http://www.w3.org/1999/xlink\">\n<g id=\"graph0\" class=\"graph\" transform=\"scale(1 1) rotate(0) translate(4 429)\">\n<title>Tree</title>\n<polygon fill=\"#ffffff\" stroke=\"transparent\" points=\"-4,4 -4,-429 1095,-429 1095,4 -4,4\"/>\n<!-- 0 -->\n<g id=\"node1\" class=\"node\">\n<title>0</title>\n<path fill=\"#afd7f4\" stroke=\"#000000\" d=\"M579.5,-425C579.5,-425 439.5,-425 439.5,-425 433.5,-425 427.5,-419 427.5,-413 427.5,-413 427.5,-354 427.5,-354 427.5,-348 433.5,-342 439.5,-342 439.5,-342 579.5,-342 579.5,-342 585.5,-342 591.5,-348 591.5,-354 591.5,-354 591.5,-413 591.5,-413 591.5,-419 585.5,-425 579.5,-425\"/>\n<text text-anchor=\"middle\" x=\"509.5\" y=\"-409.8\" font-family=\"Helvetica,sans-Serif\" font-size=\"14.00\" fill=\"#000000\">worst radius &lt;= 16.795</text>\n<text text-anchor=\"middle\" x=\"509.5\" y=\"-394.8\" font-family=\"Helvetica,sans-Serif\" font-size=\"14.00\" fill=\"#000000\">gini = 0.468</text>\n<text text-anchor=\"middle\" x=\"509.5\" y=\"-379.8\" font-family=\"Helvetica,sans-Serif\" font-size=\"14.00\" fill=\"#000000\">samples = 569</text>\n<text text-anchor=\"middle\" x=\"509.5\" y=\"-364.8\" font-family=\"Helvetica,sans-Serif\" font-size=\"14.00\" fill=\"#000000\">value = [212, 357]</text>\n<text text-anchor=\"middle\" x=\"509.5\" y=\"-349.8\" font-family=\"Helvetica,sans-Serif\" font-size=\"14.00\" fill=\"#000000\">class = benign</text>\n</g>\n<!-- 1 -->\n<g id=\"node2\" class=\"node\">\n<title>1</title>\n<path fill=\"#4ca6e7\" stroke=\"#000000\" d=\"M495.5,-306C495.5,-306 305.5,-306 305.5,-306 299.5,-306 293.5,-300 293.5,-294 293.5,-294 293.5,-235 293.5,-235 293.5,-229 299.5,-223 305.5,-223 305.5,-223 495.5,-223 495.5,-223 501.5,-223 507.5,-229 507.5,-235 507.5,-235 507.5,-294 507.5,-294 507.5,-300 501.5,-306 495.5,-306\"/>\n<text text-anchor=\"middle\" x=\"400.5\" y=\"-290.8\" font-family=\"Helvetica,sans-Serif\" font-size=\"14.00\" fill=\"#000000\">worst concave points &lt;= 0.136</text>\n<text text-anchor=\"middle\" x=\"400.5\" y=\"-275.8\" font-family=\"Helvetica,sans-Serif\" font-size=\"14.00\" fill=\"#000000\">gini = 0.159</text>\n<text text-anchor=\"middle\" x=\"400.5\" y=\"-260.8\" font-family=\"Helvetica,sans-Serif\" font-size=\"14.00\" fill=\"#000000\">samples = 379</text>\n<text text-anchor=\"middle\" x=\"400.5\" y=\"-245.8\" font-family=\"Helvetica,sans-Serif\" font-size=\"14.00\" fill=\"#000000\">value = [33, 346]</text>\n<text text-anchor=\"middle\" x=\"400.5\" y=\"-230.8\" font-family=\"Helvetica,sans-Serif\" font-size=\"14.00\" fill=\"#000000\">class = benign</text>\n</g>\n<!-- 0&#45;&gt;1 -->\n<g id=\"edge1\" class=\"edge\">\n<title>0&#45;&gt;1</title>\n<path fill=\"none\" stroke=\"#000000\" d=\"M471.3771,-341.8796C463.0451,-332.7832 454.1502,-323.0722 445.5761,-313.7116\"/>\n<polygon fill=\"#000000\" stroke=\"#000000\" points=\"448.1211,-311.3081 438.7856,-306.2981 442.9592,-316.0363 448.1211,-311.3081\"/>\n<text text-anchor=\"middle\" x=\"437.6902\" y=\"-327.5741\" font-family=\"Helvetica,sans-Serif\" font-size=\"14.00\" fill=\"#000000\">True</text>\n</g>\n<!-- 8 -->\n<g id=\"node9\" class=\"node\">\n<title>8</title>\n<path fill=\"#e78945\" stroke=\"#000000\" d=\"M717.5,-306C717.5,-306 581.5,-306 581.5,-306 575.5,-306 569.5,-300 569.5,-294 569.5,-294 569.5,-235 569.5,-235 569.5,-229 575.5,-223 581.5,-223 581.5,-223 717.5,-223 717.5,-223 723.5,-223 729.5,-229 729.5,-235 729.5,-235 729.5,-294 729.5,-294 729.5,-300 723.5,-306 717.5,-306\"/>\n<text text-anchor=\"middle\" x=\"649.5\" y=\"-290.8\" font-family=\"Helvetica,sans-Serif\" font-size=\"14.00\" fill=\"#000000\">worst texture &lt;= 19.91</text>\n<text text-anchor=\"middle\" x=\"649.5\" y=\"-275.8\" font-family=\"Helvetica,sans-Serif\" font-size=\"14.00\" fill=\"#000000\">gini = 0.109</text>\n<text text-anchor=\"middle\" x=\"649.5\" y=\"-260.8\" font-family=\"Helvetica,sans-Serif\" font-size=\"14.00\" fill=\"#000000\">samples = 190</text>\n<text text-anchor=\"middle\" x=\"649.5\" y=\"-245.8\" font-family=\"Helvetica,sans-Serif\" font-size=\"14.00\" fill=\"#000000\">value = [179, 11]</text>\n<text text-anchor=\"middle\" x=\"649.5\" y=\"-230.8\" font-family=\"Helvetica,sans-Serif\" font-size=\"14.00\" fill=\"#000000\">class = malignant</text>\n</g>\n<!-- 0&#45;&gt;8 -->\n<g id=\"edge8\" class=\"edge\">\n<title>0&#45;&gt;8</title>\n<path fill=\"none\" stroke=\"#000000\" d=\"M558.4652,-341.8796C569.4847,-332.513 581.2709,-322.4948 592.5842,-312.8784\"/>\n<polygon fill=\"#000000\" stroke=\"#000000\" points=\"594.9732,-315.4414 600.3258,-306.2981 590.4396,-310.1078 594.9732,-315.4414\"/>\n<text text-anchor=\"middle\" x=\"598.3054\" y=\"-327.5163\" font-family=\"Helvetica,sans-Serif\" font-size=\"14.00\" fill=\"#000000\">False</text>\n</g>\n<!-- 2 -->\n<g id=\"node3\" class=\"node\">\n<title>2</title>\n<path fill=\"#3c9ee5\" stroke=\"#000000\" d=\"M283,-187C283,-187 128,-187 128,-187 122,-187 116,-181 116,-175 116,-175 116,-116 116,-116 116,-110 122,-104 128,-104 128,-104 283,-104 283,-104 289,-104 295,-110 295,-116 295,-116 295,-175 295,-175 295,-181 289,-187 283,-187\"/>\n<text text-anchor=\"middle\" x=\"205.5\" y=\"-171.8\" font-family=\"Helvetica,sans-Serif\" font-size=\"14.00\" fill=\"#000000\">worst symmetry &lt;= 0.157</text>\n<text text-anchor=\"middle\" x=\"205.5\" y=\"-156.8\" font-family=\"Helvetica,sans-Serif\" font-size=\"14.00\" fill=\"#000000\">gini = 0.03</text>\n<text text-anchor=\"middle\" x=\"205.5\" y=\"-141.8\" font-family=\"Helvetica,sans-Serif\" font-size=\"14.00\" fill=\"#000000\">samples = 333</text>\n<text text-anchor=\"middle\" x=\"205.5\" y=\"-126.8\" font-family=\"Helvetica,sans-Serif\" font-size=\"14.00\" fill=\"#000000\">value = [5, 328]</text>\n<text text-anchor=\"middle\" x=\"205.5\" y=\"-111.8\" font-family=\"Helvetica,sans-Serif\" font-size=\"14.00\" fill=\"#000000\">class = benign</text>\n</g>\n<!-- 1&#45;&gt;2 -->\n<g id=\"edge2\" class=\"edge\">\n<title>1&#45;&gt;2</title>\n<path fill=\"none\" stroke=\"#000000\" d=\"M332.2985,-222.8796C316.1184,-213.0056 298.7517,-202.4075 282.2208,-192.3193\"/>\n<polygon fill=\"#000000\" stroke=\"#000000\" points=\"284.0223,-189.3185 273.663,-187.0969 280.3759,-195.2938 284.0223,-189.3185\"/>\n</g>\n<!-- 5 -->\n<g id=\"node6\" class=\"node\">\n<title>5</title>\n<path fill=\"#f6d2b8\" stroke=\"#000000\" d=\"M468.5,-187C468.5,-187 332.5,-187 332.5,-187 326.5,-187 320.5,-181 320.5,-175 320.5,-175 320.5,-116 320.5,-116 320.5,-110 326.5,-104 332.5,-104 332.5,-104 468.5,-104 468.5,-104 474.5,-104 480.5,-110 480.5,-116 480.5,-116 480.5,-175 480.5,-175 480.5,-181 474.5,-187 468.5,-187\"/>\n<text text-anchor=\"middle\" x=\"400.5\" y=\"-171.8\" font-family=\"Helvetica,sans-Serif\" font-size=\"14.00\" fill=\"#000000\">worst texture &lt;= 25.67</text>\n<text text-anchor=\"middle\" x=\"400.5\" y=\"-156.8\" font-family=\"Helvetica,sans-Serif\" font-size=\"14.00\" fill=\"#000000\">gini = 0.476</text>\n<text text-anchor=\"middle\" x=\"400.5\" y=\"-141.8\" font-family=\"Helvetica,sans-Serif\" font-size=\"14.00\" fill=\"#000000\">samples = 46</text>\n<text text-anchor=\"middle\" x=\"400.5\" y=\"-126.8\" font-family=\"Helvetica,sans-Serif\" font-size=\"14.00\" fill=\"#000000\">value = [28, 18]</text>\n<text text-anchor=\"middle\" x=\"400.5\" y=\"-111.8\" font-family=\"Helvetica,sans-Serif\" font-size=\"14.00\" fill=\"#000000\">class = malignant</text>\n</g>\n<!-- 1&#45;&gt;5 -->\n<g id=\"edge5\" class=\"edge\">\n<title>1&#45;&gt;5</title>\n<path fill=\"none\" stroke=\"#000000\" d=\"M400.5,-222.8796C400.5,-214.6838 400.5,-205.9891 400.5,-197.5013\"/>\n<polygon fill=\"#000000\" stroke=\"#000000\" points=\"404.0001,-197.298 400.5,-187.2981 397.0001,-197.2981 404.0001,-197.298\"/>\n</g>\n<!-- 3 -->\n<g id=\"node4\" class=\"node\">\n<title>3</title>\n<path fill=\"#e58139\" stroke=\"#000000\" d=\"M117,-68C117,-68 12,-68 12,-68 6,-68 0,-62 0,-56 0,-56 0,-12 0,-12 0,-6 6,0 12,0 12,0 117,0 117,0 123,0 129,-6 129,-12 129,-12 129,-56 129,-56 129,-62 123,-68 117,-68\"/>\n<text text-anchor=\"middle\" x=\"64.5\" y=\"-52.8\" font-family=\"Helvetica,sans-Serif\" font-size=\"14.00\" fill=\"#000000\">gini = 0.0</text>\n<text text-anchor=\"middle\" x=\"64.5\" y=\"-37.8\" font-family=\"Helvetica,sans-Serif\" font-size=\"14.00\" fill=\"#000000\">samples = 1</text>\n<text text-anchor=\"middle\" x=\"64.5\" y=\"-22.8\" font-family=\"Helvetica,sans-Serif\" font-size=\"14.00\" fill=\"#000000\">value = [1, 0]</text>\n<text text-anchor=\"middle\" x=\"64.5\" y=\"-7.8\" font-family=\"Helvetica,sans-Serif\" font-size=\"14.00\" fill=\"#000000\">class = malignant</text>\n</g>\n<!-- 2&#45;&gt;3 -->\n<g id=\"edge3\" class=\"edge\">\n<title>2&#45;&gt;3</title>\n<path fill=\"none\" stroke=\"#000000\" d=\"M152.9968,-103.9815C140.7934,-94.3313 127.819,-84.0714 115.6739,-74.4673\"/>\n<polygon fill=\"#000000\" stroke=\"#000000\" points=\"117.8438,-71.7211 107.829,-68.2637 113.5018,-77.2118 117.8438,-71.7211\"/>\n</g>\n<!-- 4 -->\n<g id=\"node5\" class=\"node\">\n<title>4</title>\n<path fill=\"#3b9ee5\" stroke=\"#000000\" d=\"M251.5,-68C251.5,-68 159.5,-68 159.5,-68 153.5,-68 147.5,-62 147.5,-56 147.5,-56 147.5,-12 147.5,-12 147.5,-6 153.5,0 159.5,0 159.5,0 251.5,0 251.5,0 257.5,0 263.5,-6 263.5,-12 263.5,-12 263.5,-56 263.5,-56 263.5,-62 257.5,-68 251.5,-68\"/>\n<text text-anchor=\"middle\" x=\"205.5\" y=\"-52.8\" font-family=\"Helvetica,sans-Serif\" font-size=\"14.00\" fill=\"#000000\">gini = 0.024</text>\n<text text-anchor=\"middle\" x=\"205.5\" y=\"-37.8\" font-family=\"Helvetica,sans-Serif\" font-size=\"14.00\" fill=\"#000000\">samples = 332</text>\n<text text-anchor=\"middle\" x=\"205.5\" y=\"-22.8\" font-family=\"Helvetica,sans-Serif\" font-size=\"14.00\" fill=\"#000000\">value = [4, 328]</text>\n<text text-anchor=\"middle\" x=\"205.5\" y=\"-7.8\" font-family=\"Helvetica,sans-Serif\" font-size=\"14.00\" fill=\"#000000\">class = benign</text>\n</g>\n<!-- 2&#45;&gt;4 -->\n<g id=\"edge4\" class=\"edge\">\n<title>2&#45;&gt;4</title>\n<path fill=\"none\" stroke=\"#000000\" d=\"M205.5,-103.9815C205.5,-95.618 205.5,-86.7965 205.5,-78.3409\"/>\n<polygon fill=\"#000000\" stroke=\"#000000\" points=\"209.0001,-78.2636 205.5,-68.2637 202.0001,-78.2637 209.0001,-78.2636\"/>\n</g>\n<!-- 6 -->\n<g id=\"node7\" class=\"node\">\n<title>6</title>\n<path fill=\"#6eb7ec\" stroke=\"#000000\" d=\"M379.5,-68C379.5,-68 293.5,-68 293.5,-68 287.5,-68 281.5,-62 281.5,-56 281.5,-56 281.5,-12 281.5,-12 281.5,-6 287.5,0 293.5,0 293.5,0 379.5,0 379.5,0 385.5,0 391.5,-6 391.5,-12 391.5,-12 391.5,-56 391.5,-56 391.5,-62 385.5,-68 379.5,-68\"/>\n<text text-anchor=\"middle\" x=\"336.5\" y=\"-52.8\" font-family=\"Helvetica,sans-Serif\" font-size=\"14.00\" fill=\"#000000\">gini = 0.332</text>\n<text text-anchor=\"middle\" x=\"336.5\" y=\"-37.8\" font-family=\"Helvetica,sans-Serif\" font-size=\"14.00\" fill=\"#000000\">samples = 19</text>\n<text text-anchor=\"middle\" x=\"336.5\" y=\"-22.8\" font-family=\"Helvetica,sans-Serif\" font-size=\"14.00\" fill=\"#000000\">value = [4, 15]</text>\n<text text-anchor=\"middle\" x=\"336.5\" y=\"-7.8\" font-family=\"Helvetica,sans-Serif\" font-size=\"14.00\" fill=\"#000000\">class = benign</text>\n</g>\n<!-- 5&#45;&gt;6 -->\n<g id=\"edge6\" class=\"edge\">\n<title>5&#45;&gt;6</title>\n<path fill=\"none\" stroke=\"#000000\" d=\"M376.6688,-103.9815C371.6044,-95.1585 366.2475,-85.8258 361.1532,-76.9506\"/>\n<polygon fill=\"#000000\" stroke=\"#000000\" points=\"364.1807,-75.1942 356.167,-68.2637 358.1097,-78.6789 364.1807,-75.1942\"/>\n</g>\n<!-- 7 -->\n<g id=\"node8\" class=\"node\">\n<title>7</title>\n<path fill=\"#e89152\" stroke=\"#000000\" d=\"M527,-68C527,-68 422,-68 422,-68 416,-68 410,-62 410,-56 410,-56 410,-12 410,-12 410,-6 416,0 422,0 422,0 527,0 527,0 533,0 539,-6 539,-12 539,-12 539,-56 539,-56 539,-62 533,-68 527,-68\"/>\n<text text-anchor=\"middle\" x=\"474.5\" y=\"-52.8\" font-family=\"Helvetica,sans-Serif\" font-size=\"14.00\" fill=\"#000000\">gini = 0.198</text>\n<text text-anchor=\"middle\" x=\"474.5\" y=\"-37.8\" font-family=\"Helvetica,sans-Serif\" font-size=\"14.00\" fill=\"#000000\">samples = 27</text>\n<text text-anchor=\"middle\" x=\"474.5\" y=\"-22.8\" font-family=\"Helvetica,sans-Serif\" font-size=\"14.00\" fill=\"#000000\">value = [24, 3]</text>\n<text text-anchor=\"middle\" x=\"474.5\" y=\"-7.8\" font-family=\"Helvetica,sans-Serif\" font-size=\"14.00\" fill=\"#000000\">class = malignant</text>\n</g>\n<!-- 5&#45;&gt;7 -->\n<g id=\"edge7\" class=\"edge\">\n<title>5&#45;&gt;7</title>\n<path fill=\"none\" stroke=\"#000000\" d=\"M428.0549,-103.9815C433.9715,-95.0666 440.2335,-85.6313 446.1787,-76.6734\"/>\n<polygon fill=\"#000000\" stroke=\"#000000\" points=\"449.1464,-78.5311 451.76,-68.2637 443.314,-74.6602 449.1464,-78.5311\"/>\n</g>\n<!-- 9 -->\n<g id=\"node10\" class=\"node\">\n<title>9</title>\n<path fill=\"#e9f4fc\" stroke=\"#000000\" d=\"M724,-187C724,-187 575,-187 575,-187 569,-187 563,-181 563,-175 563,-175 563,-116 563,-116 563,-110 569,-104 575,-104 575,-104 724,-104 724,-104 730,-104 736,-110 736,-116 736,-116 736,-175 736,-175 736,-181 730,-187 724,-187\"/>\n<text text-anchor=\"middle\" x=\"649.5\" y=\"-171.8\" font-family=\"Helvetica,sans-Serif\" font-size=\"14.00\" fill=\"#000000\">concavity error &lt;= 0.034</text>\n<text text-anchor=\"middle\" x=\"649.5\" y=\"-156.8\" font-family=\"Helvetica,sans-Serif\" font-size=\"14.00\" fill=\"#000000\">gini = 0.498</text>\n<text text-anchor=\"middle\" x=\"649.5\" y=\"-141.8\" font-family=\"Helvetica,sans-Serif\" font-size=\"14.00\" fill=\"#000000\">samples = 17</text>\n<text text-anchor=\"middle\" x=\"649.5\" y=\"-126.8\" font-family=\"Helvetica,sans-Serif\" font-size=\"14.00\" fill=\"#000000\">value = [8, 9]</text>\n<text text-anchor=\"middle\" x=\"649.5\" y=\"-111.8\" font-family=\"Helvetica,sans-Serif\" font-size=\"14.00\" fill=\"#000000\">class = benign</text>\n</g>\n<!-- 8&#45;&gt;9 -->\n<g id=\"edge9\" class=\"edge\">\n<title>8&#45;&gt;9</title>\n<path fill=\"none\" stroke=\"#000000\" d=\"M649.5,-222.8796C649.5,-214.6838 649.5,-205.9891 649.5,-197.5013\"/>\n<polygon fill=\"#000000\" stroke=\"#000000\" points=\"653.0001,-197.298 649.5,-187.2981 646.0001,-197.2981 653.0001,-197.298\"/>\n</g>\n<!-- 12 -->\n<g id=\"node13\" class=\"node\">\n<title>12</title>\n<path fill=\"#e5823b\" stroke=\"#000000\" d=\"M974,-187C974,-187 803,-187 803,-187 797,-187 791,-181 791,-175 791,-175 791,-116 791,-116 791,-110 797,-104 803,-104 803,-104 974,-104 974,-104 980,-104 986,-110 986,-116 986,-116 986,-175 986,-175 986,-181 980,-187 974,-187\"/>\n<text text-anchor=\"middle\" x=\"888.5\" y=\"-171.8\" font-family=\"Helvetica,sans-Serif\" font-size=\"14.00\" fill=\"#000000\">worst smoothness &lt;= 0.088</text>\n<text text-anchor=\"middle\" x=\"888.5\" y=\"-156.8\" font-family=\"Helvetica,sans-Serif\" font-size=\"14.00\" fill=\"#000000\">gini = 0.023</text>\n<text text-anchor=\"middle\" x=\"888.5\" y=\"-141.8\" font-family=\"Helvetica,sans-Serif\" font-size=\"14.00\" fill=\"#000000\">samples = 173</text>\n<text text-anchor=\"middle\" x=\"888.5\" y=\"-126.8\" font-family=\"Helvetica,sans-Serif\" font-size=\"14.00\" fill=\"#000000\">value = [171, 2]</text>\n<text text-anchor=\"middle\" x=\"888.5\" y=\"-111.8\" font-family=\"Helvetica,sans-Serif\" font-size=\"14.00\" fill=\"#000000\">class = malignant</text>\n</g>\n<!-- 8&#45;&gt;12 -->\n<g id=\"edge12\" class=\"edge\">\n<title>8&#45;&gt;12</title>\n<path fill=\"none\" stroke=\"#000000\" d=\"M729.7484,-224.5437C750.8696,-214.0273 773.8311,-202.5946 795.5588,-191.7762\"/>\n<polygon fill=\"#000000\" stroke=\"#000000\" points=\"797.3944,-194.7721 804.7861,-187.1818 794.2744,-188.5059 797.3944,-194.7721\"/>\n</g>\n<!-- 10 -->\n<g id=\"node11\" class=\"node\">\n<title>10</title>\n<path fill=\"#399de5\" stroke=\"#000000\" d=\"M655.5,-68C655.5,-68 569.5,-68 569.5,-68 563.5,-68 557.5,-62 557.5,-56 557.5,-56 557.5,-12 557.5,-12 557.5,-6 563.5,0 569.5,0 569.5,0 655.5,0 655.5,0 661.5,0 667.5,-6 667.5,-12 667.5,-12 667.5,-56 667.5,-56 667.5,-62 661.5,-68 655.5,-68\"/>\n<text text-anchor=\"middle\" x=\"612.5\" y=\"-52.8\" font-family=\"Helvetica,sans-Serif\" font-size=\"14.00\" fill=\"#000000\">gini = 0.0</text>\n<text text-anchor=\"middle\" x=\"612.5\" y=\"-37.8\" font-family=\"Helvetica,sans-Serif\" font-size=\"14.00\" fill=\"#000000\">samples = 9</text>\n<text text-anchor=\"middle\" x=\"612.5\" y=\"-22.8\" font-family=\"Helvetica,sans-Serif\" font-size=\"14.00\" fill=\"#000000\">value = [0, 9]</text>\n<text text-anchor=\"middle\" x=\"612.5\" y=\"-7.8\" font-family=\"Helvetica,sans-Serif\" font-size=\"14.00\" fill=\"#000000\">class = benign</text>\n</g>\n<!-- 9&#45;&gt;10 -->\n<g id=\"edge10\" class=\"edge\">\n<title>9&#45;&gt;10</title>\n<path fill=\"none\" stroke=\"#000000\" d=\"M635.7226,-103.9815C632.8862,-95.4342 629.8912,-86.4086 627.0292,-77.7839\"/>\n<polygon fill=\"#000000\" stroke=\"#000000\" points=\"630.3415,-76.6524 623.87,-68.2637 623.6977,-78.8571 630.3415,-76.6524\"/>\n</g>\n<!-- 11 -->\n<g id=\"node12\" class=\"node\">\n<title>11</title>\n<path fill=\"#e58139\" stroke=\"#000000\" d=\"M803,-68C803,-68 698,-68 698,-68 692,-68 686,-62 686,-56 686,-56 686,-12 686,-12 686,-6 692,0 698,0 698,0 803,0 803,0 809,0 815,-6 815,-12 815,-12 815,-56 815,-56 815,-62 809,-68 803,-68\"/>\n<text text-anchor=\"middle\" x=\"750.5\" y=\"-52.8\" font-family=\"Helvetica,sans-Serif\" font-size=\"14.00\" fill=\"#000000\">gini = 0.0</text>\n<text text-anchor=\"middle\" x=\"750.5\" y=\"-37.8\" font-family=\"Helvetica,sans-Serif\" font-size=\"14.00\" fill=\"#000000\">samples = 8</text>\n<text text-anchor=\"middle\" x=\"750.5\" y=\"-22.8\" font-family=\"Helvetica,sans-Serif\" font-size=\"14.00\" fill=\"#000000\">value = [8, 0]</text>\n<text text-anchor=\"middle\" x=\"750.5\" y=\"-7.8\" font-family=\"Helvetica,sans-Serif\" font-size=\"14.00\" fill=\"#000000\">class = malignant</text>\n</g>\n<!-- 9&#45;&gt;11 -->\n<g id=\"edge11\" class=\"edge\">\n<title>9&#45;&gt;11</title>\n<path fill=\"none\" stroke=\"#000000\" d=\"M687.1087,-103.9815C695.4339,-94.7908 704.26,-85.0472 712.5968,-75.8436\"/>\n<polygon fill=\"#000000\" stroke=\"#000000\" points=\"715.3434,-78.0248 719.463,-68.2637 710.1554,-73.3254 715.3434,-78.0248\"/>\n</g>\n<!-- 13 -->\n<g id=\"node14\" class=\"node\">\n<title>13</title>\n<path fill=\"#399de5\" stroke=\"#000000\" d=\"M931.5,-68C931.5,-68 845.5,-68 845.5,-68 839.5,-68 833.5,-62 833.5,-56 833.5,-56 833.5,-12 833.5,-12 833.5,-6 839.5,0 845.5,0 845.5,0 931.5,0 931.5,0 937.5,0 943.5,-6 943.5,-12 943.5,-12 943.5,-56 943.5,-56 943.5,-62 937.5,-68 931.5,-68\"/>\n<text text-anchor=\"middle\" x=\"888.5\" y=\"-52.8\" font-family=\"Helvetica,sans-Serif\" font-size=\"14.00\" fill=\"#000000\">gini = 0.0</text>\n<text text-anchor=\"middle\" x=\"888.5\" y=\"-37.8\" font-family=\"Helvetica,sans-Serif\" font-size=\"14.00\" fill=\"#000000\">samples = 1</text>\n<text text-anchor=\"middle\" x=\"888.5\" y=\"-22.8\" font-family=\"Helvetica,sans-Serif\" font-size=\"14.00\" fill=\"#000000\">value = [0, 1]</text>\n<text text-anchor=\"middle\" x=\"888.5\" y=\"-7.8\" font-family=\"Helvetica,sans-Serif\" font-size=\"14.00\" fill=\"#000000\">class = benign</text>\n</g>\n<!-- 12&#45;&gt;13 -->\n<g id=\"edge13\" class=\"edge\">\n<title>12&#45;&gt;13</title>\n<path fill=\"none\" stroke=\"#000000\" d=\"M888.5,-103.9815C888.5,-95.618 888.5,-86.7965 888.5,-78.3409\"/>\n<polygon fill=\"#000000\" stroke=\"#000000\" points=\"892.0001,-78.2636 888.5,-68.2637 885.0001,-78.2637 892.0001,-78.2636\"/>\n</g>\n<!-- 14 -->\n<g id=\"node15\" class=\"node\">\n<title>14</title>\n<path fill=\"#e5823a\" stroke=\"#000000\" d=\"M1079,-68C1079,-68 974,-68 974,-68 968,-68 962,-62 962,-56 962,-56 962,-12 962,-12 962,-6 968,0 974,0 974,0 1079,0 1079,0 1085,0 1091,-6 1091,-12 1091,-12 1091,-56 1091,-56 1091,-62 1085,-68 1079,-68\"/>\n<text text-anchor=\"middle\" x=\"1026.5\" y=\"-52.8\" font-family=\"Helvetica,sans-Serif\" font-size=\"14.00\" fill=\"#000000\">gini = 0.012</text>\n<text text-anchor=\"middle\" x=\"1026.5\" y=\"-37.8\" font-family=\"Helvetica,sans-Serif\" font-size=\"14.00\" fill=\"#000000\">samples = 172</text>\n<text text-anchor=\"middle\" x=\"1026.5\" y=\"-22.8\" font-family=\"Helvetica,sans-Serif\" font-size=\"14.00\" fill=\"#000000\">value = [171, 1]</text>\n<text text-anchor=\"middle\" x=\"1026.5\" y=\"-7.8\" font-family=\"Helvetica,sans-Serif\" font-size=\"14.00\" fill=\"#000000\">class = malignant</text>\n</g>\n<!-- 12&#45;&gt;14 -->\n<g id=\"edge14\" class=\"edge\">\n<title>12&#45;&gt;14</title>\n<path fill=\"none\" stroke=\"#000000\" d=\"M939.8861,-103.9815C951.7161,-94.4232 964.2864,-84.2668 976.0751,-74.7419\"/>\n<polygon fill=\"#000000\" stroke=\"#000000\" points=\"978.5142,-77.2708 984.0929,-68.2637 974.1149,-71.826 978.5142,-77.2708\"/>\n</g>\n</g>\n</svg>\n"
          },
          "metadata": {},
          "execution_count": 10
        }
      ]
    },
    {
      "cell_type": "code",
      "source": [
        "print(\"특성 중요도:\\n{}\".format(tree.feature_importances_))\n"
      ],
      "metadata": {
        "colab": {
          "base_uri": "https://localhost:8080/"
        },
        "id": "xo5MFwJk_LbA",
        "outputId": "3524f6d9-bc8b-4421-dbf0-94514ebcc47f"
      },
      "execution_count": 11,
      "outputs": [
        {
          "output_type": "stream",
          "name": "stdout",
          "text": [
            "특성 중요도:\n",
            "[0.         0.00752597 0.         0.         0.00903116 0.\n",
            " 0.00752597 0.         0.         0.         0.00975731 0.04630969\n",
            " 0.         0.00238745 0.00231135 0.         0.         0.\n",
            " 0.         0.00668975 0.69546322 0.05383211 0.         0.01354675\n",
            " 0.         0.         0.01740312 0.11684357 0.01137258 0.        ]\n"
          ]
        }
      ]
    },
    {
      "cell_type": "code",
      "source": [
        "def plot_feature_importances_cancer(model):\n",
        "    n_features = cancer.data.shape[1]\n",
        "    plt.barh(range(n_features), model.feature_importances_, align='center')\n",
        "    plt.yticks(np.arange(n_features), cancer.feature_names)\n",
        "    plt.xlabel(\"feature importances\")\n",
        "    plt.ylabel(\"feature\")\n",
        "    plt.ylim(-1, n_features)\n",
        "\n",
        "plot_feature_importances_cancer(tree)"
      ],
      "metadata": {
        "colab": {
          "base_uri": "https://localhost:8080/",
          "height": 286
        },
        "id": "imhTqVP9_X5q",
        "outputId": "bb074806-715d-47a6-dda2-5a5e7c45d14a"
      },
      "execution_count": 12,
      "outputs": [
        {
          "output_type": "display_data",
          "data": {
            "text/plain": [
              "<Figure size 432x288 with 1 Axes>"
            ],
            "image/png": "[encoded data removed]"
          },
          "metadata": {
            "needs_background": "light"
          }
        }
      ]
    }
  ]
}